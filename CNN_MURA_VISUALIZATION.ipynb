{
 "cells": [
  {
   "cell_type": "markdown",
   "metadata": {
    "colab_type": "text",
    "id": "EKWJoq90lKSS"
   },
   "source": [
    "# Setting environment"
   ]
  },
  {
   "cell_type": "code",
   "execution_count": 0,
   "metadata": {
    "colab": {},
    "colab_type": "code",
    "id": "GG_5dI6hyBtz"
   },
   "outputs": [],
   "source": [
    "_=[i for i in range(999999999)]"
   ]
  },
  {
   "cell_type": "markdown",
   "metadata": {
    "colab_type": "text",
    "id": "uCOHt7cF0FRX"
   },
   "source": [
    "Run the above cell to get more ram by making session crashed."
   ]
  },
  {
   "cell_type": "code",
   "execution_count": 0,
   "metadata": {
    "colab": {
     "base_uri": "https://localhost:8080/",
     "height": 55
    },
    "colab_type": "code",
    "executionInfo": {
     "elapsed": 1488,
     "status": "ok",
     "timestamp": 1589187397139,
     "user": {
      "displayName": "廖翊伶",
      "photoUrl": "",
      "userId": "08230957778160666981"
     },
     "user_tz": -480
    },
    "id": "ZYin0-Yv0Spq",
    "outputId": "c88564c1-4b2d-4fb2-8ecd-709ed105644e"
   },
   "outputs": [
    {
     "name": "stdout",
     "output_type": "stream",
     "text": [
      "Drive already mounted at /content/drive; to attempt to forcibly remount, call drive.mount(\"/content/drive\", force_remount=True).\n"
     ]
    }
   ],
   "source": [
    "from google.colab import drive\n",
    "drive.mount('/content/drive')"
   ]
  },
  {
   "cell_type": "markdown",
   "metadata": {
    "colab_type": "text",
    "id": "bWJDsoUQ1NnK"
   },
   "source": [
    "Mount google drive by excuting the above cell"
   ]
  },
  {
   "cell_type": "code",
   "execution_count": 0,
   "metadata": {
    "colab": {
     "base_uri": "https://localhost:8080/",
     "height": 69
    },
    "colab_type": "code",
    "executionInfo": {
     "elapsed": 2697,
     "status": "ok",
     "timestamp": 1589187402900,
     "user": {
      "displayName": "廖翊伶",
      "photoUrl": "",
      "userId": "08230957778160666981"
     },
     "user_tz": -480
    },
    "id": "aBTip3XglKSY",
    "outputId": "e330e6ec-b8d5-40d9-fef3-74c78a3b7564"
   },
   "outputs": [
    {
     "name": "stdout",
     "output_type": "stream",
     "text": [
      "2.2.0-rc4 /usr/local/lib/python3.6/dist-packages/tensorflow/__init__.py\n",
      "2.3.1 /usr/local/lib/python3.6/dist-packages/keras/__init__.py\n"
     ]
    },
    {
     "name": "stderr",
     "output_type": "stream",
     "text": [
      "Using TensorFlow backend.\n"
     ]
    }
   ],
   "source": [
    "import tensorflow as tf\n",
    "print(tf.__version__, tf.__file__)\n",
    "import keras\n",
    "print(keras.__version__, keras.__file__)"
   ]
  },
  {
   "cell_type": "markdown",
   "metadata": {
    "colab_type": "text",
    "id": "8UAO_hE8lKSb"
   },
   "source": [
    "# Import package"
   ]
  },
  {
   "cell_type": "code",
   "execution_count": 0,
   "metadata": {
    "colab": {},
    "colab_type": "code",
    "id": "sj4_lYR8lKSg"
   },
   "outputs": [],
   "source": [
    "#from keras.preprocessing.image import ImageDataGenerator\n",
    "#不使用 keras 的圖片資料讀取功能，因為雲端環境不適合使用 generator  "
   ]
  },
  {
   "cell_type": "code",
   "execution_count": 0,
   "metadata": {
    "colab": {},
    "colab_type": "code",
    "id": "ltPxdaq6cr02"
   },
   "outputs": [],
   "source": [
    "import numpy as np\n",
    "import os"
   ]
  },
  {
   "cell_type": "markdown",
   "metadata": {
    "colab_type": "text",
    "id": "zsTwA-UJlKSj"
   },
   "source": [
    "# Loading images"
   ]
  },
  {
   "cell_type": "code",
   "execution_count": 45,
   "metadata": {
    "colab": {
     "base_uri": "https://localhost:8080/",
     "height": 1000
    },
    "colab_type": "code",
    "executionInfo": {
     "elapsed": 1291,
     "status": "ok",
     "timestamp": 1589188440201,
     "user": {
      "displayName": "廖翊伶",
      "photoUrl": "",
      "userId": "08230957778160666981"
     },
     "user_tz": -480
    },
    "id": "oMHsg1gAwxLD",
    "outputId": "639ac353-0bd2-411e-d8ff-2d74b73c2fd9"
   },
   "outputs": [
    {
     "name": "stdout",
     "output_type": "stream",
     "text": [
      "Help on module drive.Shared drives.深度學習於生醫資料分析.util in drive.Shared drives.深度學習於生醫資料分析:\n",
      "\n",
      "NAME\n",
      "    drive.Shared drives.深度學習於生醫資料分析.util\n",
      "\n",
      "CLASSES\n",
      "    builtins.object\n",
      "        Img_reader\n",
      "    \n",
      "    class Img_reader(builtins.object)\n",
      "     |  能以多線程的方式讀取圖片資料，將其依據資料夾自動分類，並處理成 array 和標籤\n",
      "     |  \n",
      "     |  Parameters:\n",
      "     |      path:       圖片資料的路徑。\n",
      "     |  \n",
      "     |      label_name: 標籤名稱的 list，需能對應上路徑中的各類別資料夾名稱，若不指定，會自行判斷。\n",
      "     |  \n",
      "     |      size:       訓練資料的 array size，需包含色彩軸，若圖片為灰階，色彩軸應為 1。\n",
      "     |  \n",
      "     |      rescale:    圖片重訂比例。\n",
      "     |  \n",
      "     |  Return:\n",
      "     |      圖片讀取的物件\n",
      "     |  \n",
      "     |  Methods defined here:\n",
      "     |  \n",
      "     |  __init__(self, path, label_name=None, size=(512, 512, 1), rescale=None)\n",
      "     |      Initialize self.  See help(type(self)) for accurate signature.\n",
      "     |  \n",
      "     |  read_by_thread(self, thread_num=3, shuffle=True)\n",
      "     |      開始讀圖片資料。\n",
      "     |      \n",
      "     |      Parameters:\n",
      "     |          thread_num: 多線程數量。\n",
      "     |      \n",
      "     |          shuffle:    是否將資料順序打亂。\n",
      "     |          \n",
      "     |      Return:\n",
      "     |          (訓練資料, 標籤): 標籤為整數資料。\n",
      "     |  \n",
      "     |  ----------------------------------------------------------------------\n",
      "     |  Data descriptors defined here:\n",
      "     |  \n",
      "     |  __dict__\n",
      "     |      dictionary for instance variables (if defined)\n",
      "     |  \n",
      "     |  __weakref__\n",
      "     |      list of weak references to the object (if defined)\n",
      "\n",
      "FUNCTIONS\n",
      "    ceil(...)\n",
      "        ceil(x)\n",
      "        \n",
      "        Return the ceiling of x as an Integral.\n",
      "        This is the smallest integer >= x.\n",
      "    \n",
      "    generator_to_array(generator, length=None)\n",
      "        將 keras 的 image generator 轉成 numpy array\n",
      "        \n",
      "        Parameters:\n",
      "            generator:  keras 的 image generator。\n",
      "        \n",
      "            length:  讀取的 batch 數量。\n",
      "    \n",
      "    vis_img(array)\n",
      "        將 array 以圖片顯示出來\n",
      "\n",
      "FILE\n",
      "    /content/drive/Shared drives/深度學習於生醫資料分析/util.py\n",
      "\n",
      "\n"
     ]
    }
   ],
   "source": [
    "import importlib\n",
    "\n",
    "u = importlib.import_module(\"drive.Shared drives.深度學習於生醫資料分析.util\")\n",
    "#使用汪汪的工具模組，使用方法請用 help() 指令來查詢\n",
    "\n",
    "help(u)"
   ]
  },
  {
   "cell_type": "code",
   "execution_count": 0,
   "metadata": {
    "colab": {},
    "colab_type": "code",
    "id": "BXYBBntpw6Ex"
   },
   "outputs": [],
   "source": [
    "Img_reader = u.Img_reader   #圖片資料讀取物件\n",
    "vis_img = u.vis_img   #顯示圖片 array "
   ]
  },
  {
   "cell_type": "code",
   "execution_count": 47,
   "metadata": {
    "colab": {
     "base_uri": "https://localhost:8080/",
     "height": 35
    },
    "colab_type": "code",
    "executionInfo": {
     "elapsed": 1440,
     "status": "ok",
     "timestamp": 1589188449900,
     "user": {
      "displayName": "廖翊伶",
      "photoUrl": "",
      "userId": "08230957778160666981"
     },
     "user_tz": -480
    },
    "id": "UN9LedPF4wNv",
    "outputId": "04473ba8-5cf6-413a-cf74-91c0c8386163"
   },
   "outputs": [
    {
     "name": "stdout",
     "output_type": "stream",
     "text": [
      "['WRIST_negative', 'ELBOW_negative', 'SHOULDER_negative']\n"
     ]
    }
   ],
   "source": [
    "#先建立訓練資料用的圖片資料讀取物件\n",
    "\n",
    "train_reader = Img_reader(\"/content/drive/Shared drives/深度學習於生醫資料分析/MURA/train/\", # 訓練集圖片的文件夾\n",
    "                          size = (224,224,1), # 調整後每張圖片的大小\n",
    "                          rescale = 1/255.) # 圖片像素值為0-255，此處都乘以1/255，調整到0-1之間\n",
    "\n",
    "label_name = train_reader.label_name\n",
    "print(train_reader.label_name) #訓練資料的標籤名 list\n"
   ]
  },
  {
   "cell_type": "markdown",
   "metadata": {
    "colab_type": "text",
    "id": "cGdZ1RqW4Nlt"
   },
   "source": [
    "> 以上 rescale 的技巧稱為資料正規化(normalization)，此操作是為了讓輸入資料和 weights 有相似的 range，以避免需花費額化的時間成本在調整超參數上(例如 learning rate)。\n",
    "\n"
   ]
  },
  {
   "cell_type": "code",
   "execution_count": 0,
   "metadata": {
    "colab": {
     "base_uri": "https://localhost:8080/",
     "height": 51
    },
    "colab_type": "code",
    "executionInfo": {
     "elapsed": 392716,
     "status": "ok",
     "timestamp": 1588428312666,
     "user": {
      "displayName": "TaiChen Tsai",
      "photoUrl": "https://lh3.googleusercontent.com/a-/AOh14GijiFB-FCVKj3sPtQs-xEWh9oPVGqglbAaNEO2CQw=s64",
      "userId": "11872014736267145971"
     },
     "user_tz": -480
    },
    "id": "igBbrFYz5jjM",
    "outputId": "30cb2b51-4e42-4022-dd31-b5acd32ebe8c"
   },
   "outputs": [
    {
     "name": "stdout",
     "output_type": "stream",
     "text": [
      "Found 9032 images belonging to 3 classes.\n",
      "100%\n"
     ]
    }
   ],
   "source": [
    "#np.random.seed(5)\n",
    "train_data,train_label = train_reader.read_by_thread(thread_num = 1000,  #指定要使用多少線程\n",
    "                                                    shuffle = True)  #是否打亂資料集順序"
   ]
  },
  {
   "cell_type": "markdown",
   "metadata": {
    "colab_type": "text",
    "id": "-xF_qN2q5xuH"
   },
   "source": [
    "\n",
    "\n",
    "> 以上方法與 keras 的 flow_from_directory() 不同之處在於，這是直接將資料讀進系統的 ram 中，而 keras 是以 generator 的形式產生資料，所以每次皆會重新讀取，能省去大量記憶體空間。然而對雲端環境來說，每次讀檔就要下載一次資料，因此不適合。\n",
    "\n"
   ]
  },
  {
   "cell_type": "code",
   "execution_count": 0,
   "metadata": {
    "colab": {
     "base_uri": "https://localhost:8080/",
     "height": 34
    },
    "colab_type": "code",
    "executionInfo": {
     "elapsed": 1126,
     "status": "ok",
     "timestamp": 1588428794783,
     "user": {
      "displayName": "TaiChen Tsai",
      "photoUrl": "https://lh3.googleusercontent.com/a-/AOh14GijiFB-FCVKj3sPtQs-xEWh9oPVGqglbAaNEO2CQw=s64",
      "userId": "11872014736267145971"
     },
     "user_tz": -480
    },
    "id": "nIy4Kv6u8VyC",
    "outputId": "1d1b62da-d09b-4793-b01c-a5e8d11cfa0f"
   },
   "outputs": [
    {
     "data": {
      "text/plain": [
       "(9032, 224, 224, 1)"
      ]
     },
     "execution_count": 8,
     "metadata": {
      "tags": []
     },
     "output_type": "execute_result"
    }
   ],
   "source": [
    "train_data.shape"
   ]
  },
  {
   "cell_type": "code",
   "execution_count": 0,
   "metadata": {
    "colab": {},
    "colab_type": "code",
    "id": "lr5kK4PBlKSj"
   },
   "outputs": [],
   "source": [
    "# train_datagen = ImageDataGenerator(rescale=1. / 255) # 圖片像素值為0-255，此處都乘以1/255，調整到0-1之間\n",
    "# train_generator = train_datagen.flow_from_directory( # 從文件夾中產生數據流\n",
    "#     directory=\"/content/drive/Shared drives/深度學習於生醫資料分析/MURA/train/\", # 訓練集圖片的文件夾\n",
    "#     target_size=(224, 224), # 調整後每張圖片的大小\n",
    "#     batch_size=32,\n",
    "# )"
   ]
  },
  {
   "cell_type": "code",
   "execution_count": 0,
   "metadata": {
    "colab": {
     "base_uri": "https://localhost:8080/",
     "height": 269
    },
    "colab_type": "code",
    "executionInfo": {
     "elapsed": 1441,
     "status": "ok",
     "timestamp": 1588428799445,
     "user": {
      "displayName": "TaiChen Tsai",
      "photoUrl": "https://lh3.googleusercontent.com/a-/AOh14GijiFB-FCVKj3sPtQs-xEWh9oPVGqglbAaNEO2CQw=s64",
      "userId": "11872014736267145971"
     },
     "user_tz": -480
    },
    "id": "vEikZA9SfVQR",
    "outputId": "690f6f3a-4567-4f06-bc12-b98b92641274"
   },
   "outputs": [
    {
     "data": {
      "image/png": "[encoded data removed]",
      "text/plain": [
       "<Figure size 432x288 with 1 Axes>"
      ]
     },
     "metadata": {
      "needs_background": "light",
      "tags": []
     },
     "output_type": "display_data"
    }
   ],
   "source": [
    "vis_img(train_data[0])"
   ]
  },
  {
   "cell_type": "code",
   "execution_count": 0,
   "metadata": {
    "colab": {
     "base_uri": "https://localhost:8080/",
     "height": 51
    },
    "colab_type": "code",
    "executionInfo": {
     "elapsed": 60418,
     "status": "ok",
     "timestamp": 1588428883996,
     "user": {
      "displayName": "TaiChen Tsai",
      "photoUrl": "https://lh3.googleusercontent.com/a-/AOh14GijiFB-FCVKj3sPtQs-xEWh9oPVGqglbAaNEO2CQw=s64",
      "userId": "11872014736267145971"
     },
     "user_tz": -480
    },
    "id": "77Tnix1AlKSn",
    "outputId": "40d07458-71fa-4f4a-95d5-bf6192286396"
   },
   "outputs": [
    {
     "name": "stdout",
     "output_type": "stream",
     "text": [
      "Found 1289 images belonging to 3 classes.\n",
      "100%\n"
     ]
    }
   ],
   "source": [
    "vali_reader = Img_reader(\"/content/drive/Shared drives/深度學習於生醫資料分析/MURA/valid/\", # 訓練集圖片的文件夾\n",
    "                         label_name = label_name,\n",
    "                         size = (224,224,1), # 調整後每張圖片的大小\n",
    "                         rescale = 1/255.) # 圖片像素值為0-255，此處都乘以1/255，調整到0-1之間\n",
    "\n",
    "vali_data,vali_label = vali_reader.read_by_thread(thread_num = 1000,  #指定要使用多少線程\n",
    "                                                  shuffle = True)  #是否打亂資料集順序"
   ]
  },
  {
   "cell_type": "code",
   "execution_count": 51,
   "metadata": {
    "colab": {
     "base_uri": "https://localhost:8080/",
     "height": 52
    },
    "colab_type": "code",
    "executionInfo": {
     "elapsed": 9513,
     "status": "ok",
     "timestamp": 1589188478178,
     "user": {
      "displayName": "廖翊伶",
      "photoUrl": "",
      "userId": "08230957778160666981"
     },
     "user_tz": -480
    },
    "id": "b1Zhcb2YlKSr",
    "outputId": "b4ff0555-5ed4-4290-de41-04122106e96c"
   },
   "outputs": [
    {
     "name": "stdout",
     "output_type": "stream",
     "text": [
      "Found 2580 images belonging to 3 classes.\n",
      "100%\n"
     ]
    }
   ],
   "source": [
    "test_reader = Img_reader(\"/content/drive/Shared drives/深度學習於生醫資料分析/MURA/test/\", # 訓練集圖片的文件夾\n",
    "                         label_name = label_name,\n",
    "                         size = (224,224,1), # 調整後每張圖片的大小\n",
    "                         rescale = 1/255.) # 圖片像素值為0-255，此處都乘以1/255，調整到0-1之間\n",
    "\n",
    "test_data,test_label = test_reader.read_by_thread(thread_num = 1000,  #指定要使用多少線程\n",
    "                                                  shuffle = True)  #是否打亂資料集順序"
   ]
  },
  {
   "cell_type": "markdown",
   "metadata": {
    "colab_type": "text",
    "id": "oJGx1IzllKSt"
   },
   "source": [
    "# Model building"
   ]
  },
  {
   "cell_type": "markdown",
   "metadata": {
    "colab_type": "text",
    "id": "8TmhIrai9f-I"
   },
   "source": [
    "以下改用 tf.keras，因為 colab 上的 keras 和 tensorflow 版本不相容"
   ]
  },
  {
   "cell_type": "code",
   "execution_count": 0,
   "metadata": {
    "colab": {},
    "colab_type": "code",
    "id": "OyjpWmUFlKSu"
   },
   "outputs": [],
   "source": [
    "from tensorflow.keras.preprocessing import image\n",
    "from tensorflow.keras import Model\n",
    "from tensorflow.keras.models import load_model"
   ]
  },
  {
   "cell_type": "code",
   "execution_count": 0,
   "metadata": {
    "colab": {},
    "colab_type": "code",
    "id": "8yqa0d6JlKSx"
   },
   "outputs": [],
   "source": [
    "from tensorflow.keras.layers import Input\n",
    "from tensorflow.keras.layers import Dense, Dropout, Activation, Flatten\n",
    "from tensorflow.keras.layers import Conv2D, MaxPooling2D"
   ]
  },
  {
   "cell_type": "code",
   "execution_count": 0,
   "metadata": {
    "cellView": "both",
    "colab": {},
    "colab_type": "code",
    "id": "lN_8t8VDlKS3"
   },
   "outputs": [],
   "source": [
    "#@title Define VGG16 creating function\n",
    "def VGG16():\n",
    "    img_input = Input(shape=(224,224,1))\n",
    "    \n",
    "    x = Conv2D(filters=64, kernel_size=(3,3),\n",
    "               activation='relu', padding='same')(img_input)\n",
    "    x = Conv2D(filters=64, kernel_size=(3,3),\n",
    "               activation='relu', padding='same')(x)\n",
    "    x = MaxPooling2D(pool_size=(2,2), strides=(2, 2))(x)\n",
    "    \n",
    "    x = Conv2D(filters=128, kernel_size=(3,3),\n",
    "               activation='relu', padding='same')(x)\n",
    "    x = Conv2D(filters=128, kernel_size=(3,3),\n",
    "               activation='relu', padding='same')(x)\n",
    "    x = MaxPooling2D(pool_size=(2,2), strides=(2, 2))(x)\n",
    "    \n",
    "    x = Conv2D(filters=256, kernel_size=(3,3),\n",
    "               activation='relu', padding='same')(x)\n",
    "    x = Conv2D(filters=256, kernel_size=(3,3),\n",
    "               activation='relu', padding='same')(x)\n",
    "    x = Conv2D(filters=256, kernel_size=(3,3),\n",
    "               activation='relu', padding='same')(x)\n",
    "    x = MaxPooling2D(pool_size=(2,2), strides=(2, 2))(x)\n",
    "    \n",
    "    x = Conv2D(filters=512, kernel_size=(3,3),\n",
    "               activation='relu', padding='same')(x)\n",
    "    x = Conv2D(filters=512, kernel_size=(3,3),\n",
    "               activation='relu', padding='same')(x)\n",
    "    x = Conv2D(filters=512, kernel_size=(3,3),\n",
    "               activation='relu', padding='same')(x)\n",
    "    x = MaxPooling2D(pool_size=(2,2), strides=(2, 2))(x)\n",
    "    \n",
    "    x = Conv2D(filters=512, kernel_size=(3,3),\n",
    "               activation='relu', padding='same')(x)\n",
    "    x = Conv2D(filters=512, kernel_size=(3,3),\n",
    "               activation='relu', padding='same')(x)\n",
    "    x = Conv2D(filters=512, kernel_size=(3,3),\n",
    "               activation='relu', padding='same')(x)\n",
    "    x = MaxPooling2D(pool_size=(2,2), strides=(2, 2))(x)\n",
    "    \n",
    "    x = Flatten()(x)\n",
    "    \n",
    "    x = Dense(4096, activation='relu')(x)\n",
    "    \n",
    "    x = Dense(3, activation='softmax')(x)\n",
    "    \n",
    "    return Model(inputs=img_input, outputs=x)\n",
    "    "
   ]
  },
  {
   "cell_type": "code",
   "execution_count": 52,
   "metadata": {
    "colab": {
     "base_uri": "https://localhost:8080/",
     "height": 35
    },
    "colab_type": "code",
    "executionInfo": {
     "elapsed": 1136,
     "status": "ok",
     "timestamp": 1589188480040,
     "user": {
      "displayName": "廖翊伶",
      "photoUrl": "",
      "userId": "08230957778160666981"
     },
     "user_tz": -480
    },
    "id": "NH2foNi5lKS5",
    "outputId": "0c44b903-a001-46ed-aadf-fb39bd8d95e2"
   },
   "outputs": [
    {
     "name": "stdout",
     "output_type": "stream",
     "text": [
      "/content/drive/My Drive/YM_HW_VGG16_model 資料夾已存在\n"
     ]
    }
   ],
   "source": [
    "model_folder = \"/content/drive/My Drive/YM_HW_VGG16_model\"\n",
    "\n",
    "if not os.path.exists(model_folder):\n",
    "    os.mkdir(model_folder)\n",
    "    print(\"建立資料夾: \" + model_folder)\n",
    "else:\n",
    "    print(model_folder + \" 資料夾已存在\")\n",
    "\n",
    "model_path = \"/content/drive/My Drive/YM_HW_VGG16_model/weights.h5\"\n",
    "if os.path.exists(model_path):\n",
    "    print(\"Found model, it will keep training!\")\n",
    "    model = load_model(model_path)\n",
    "else:\n",
    "    model = VGG16()"
   ]
  },
  {
   "cell_type": "code",
   "execution_count": 53,
   "metadata": {
    "colab": {
     "base_uri": "https://localhost:8080/",
     "height": 919
    },
    "colab_type": "code",
    "executionInfo": {
     "elapsed": 1633,
     "status": "ok",
     "timestamp": 1589188482760,
     "user": {
      "displayName": "廖翊伶",
      "photoUrl": "",
      "userId": "08230957778160666981"
     },
     "user_tz": -480
    },
    "id": "K8ScFFTIlKS8",
    "outputId": "221d4452-cba3-4aba-e24e-988468813323",
    "scrolled": true
   },
   "outputs": [
    {
     "name": "stdout",
     "output_type": "stream",
     "text": [
      "Model: \"model_3\"\n",
      "_________________________________________________________________\n",
      "Layer (type)                 Output Shape              Param #   \n",
      "=================================================================\n",
      "input_2 (InputLayer)         [(None, 224, 224, 1)]     0         \n",
      "_________________________________________________________________\n",
      "conv2d_13 (Conv2D)           (None, 224, 224, 64)      640       \n",
      "_________________________________________________________________\n",
      "conv2d_14 (Conv2D)           (None, 224, 224, 64)      36928     \n",
      "_________________________________________________________________\n",
      "max_pooling2d_5 (MaxPooling2 (None, 112, 112, 64)      0         \n",
      "_________________________________________________________________\n",
      "conv2d_15 (Conv2D)           (None, 112, 112, 128)     73856     \n",
      "_________________________________________________________________\n",
      "conv2d_16 (Conv2D)           (None, 112, 112, 128)     147584    \n",
      "_________________________________________________________________\n",
      "max_pooling2d_6 (MaxPooling2 (None, 56, 56, 128)       0         \n",
      "_________________________________________________________________\n",
      "conv2d_17 (Conv2D)           (None, 56, 56, 256)       295168    \n",
      "_________________________________________________________________\n",
      "conv2d_18 (Conv2D)           (None, 56, 56, 256)       590080    \n",
      "_________________________________________________________________\n",
      "conv2d_19 (Conv2D)           (None, 56, 56, 256)       590080    \n",
      "_________________________________________________________________\n",
      "max_pooling2d_7 (MaxPooling2 (None, 28, 28, 256)       0         \n",
      "_________________________________________________________________\n",
      "conv2d_20 (Conv2D)           (None, 28, 28, 512)       1180160   \n",
      "_________________________________________________________________\n",
      "conv2d_21 (Conv2D)           (None, 28, 28, 512)       2359808   \n",
      "_________________________________________________________________\n",
      "conv2d_22 (Conv2D)           (None, 28, 28, 512)       2359808   \n",
      "_________________________________________________________________\n",
      "max_pooling2d_8 (MaxPooling2 (None, 14, 14, 512)       0         \n",
      "_________________________________________________________________\n",
      "conv2d_23 (Conv2D)           (None, 14, 14, 512)       2359808   \n",
      "_________________________________________________________________\n",
      "conv2d_24 (Conv2D)           (None, 14, 14, 512)       2359808   \n",
      "_________________________________________________________________\n",
      "conv2d_25 (Conv2D)           (None, 14, 14, 512)       2359808   \n",
      "_________________________________________________________________\n",
      "max_pooling2d_9 (MaxPooling2 (None, 7, 7, 512)         0         \n",
      "_________________________________________________________________\n",
      "flatten_1 (Flatten)          (None, 25088)             0         \n",
      "_________________________________________________________________\n",
      "dense_2 (Dense)              (None, 4096)              102764544 \n",
      "_________________________________________________________________\n",
      "dense_3 (Dense)              (None, 3)                 12291     \n",
      "=================================================================\n",
      "Total params: 117,490,371\n",
      "Trainable params: 117,490,371\n",
      "Non-trainable params: 0\n",
      "_________________________________________________________________\n"
     ]
    }
   ],
   "source": [
    "model.summary()"
   ]
  },
  {
   "cell_type": "markdown",
   "metadata": {
    "colab_type": "text",
    "id": "zkvFq85TlKS_"
   },
   "source": [
    "# Compile the model"
   ]
  },
  {
   "cell_type": "code",
   "execution_count": 0,
   "metadata": {
    "colab": {},
    "colab_type": "code",
    "id": "Zovn7_JtlKTA"
   },
   "outputs": [],
   "source": [
    "from tensorflow.keras.optimizers import Adam"
   ]
  },
  {
   "cell_type": "code",
   "execution_count": 0,
   "metadata": {
    "colab": {},
    "colab_type": "code",
    "id": "641UM-NJlKTD"
   },
   "outputs": [],
   "source": [
    "model.compile(loss='sparse_categorical_crossentropy', #因標籤為整數資料，故使用此損失函數\n",
    "              optimizer=Adam(lr=0.0001),  #lr:學習率 = 0.0001\n",
    "              metrics=['accuracy'])"
   ]
  },
  {
   "cell_type": "code",
   "execution_count": 0,
   "metadata": {
    "colab": {},
    "colab_type": "code",
    "id": "MkLgZzc5lKTF"
   },
   "outputs": [],
   "source": [
    "from tensorflow.keras.callbacks import ModelCheckpoint\n",
    "\n",
    "#filepath=\"/content/drive/My Drive/YM/HW_VGG16/model/weights-{epoch:02d}-{val_acc:.2f}.h5\"\n",
    "filepath=\"/content/drive/My Drive/YM_HW_VGG16_model/weights.h5\"\n",
    "checkpoint = ModelCheckpoint(filepath, monitor='val_accuracy', verbose=1, save_best_only=True, mode='max')\n",
    "#只存取準確率最高的模型和權重\n",
    "callbacks_list = [checkpoint]"
   ]
  },
  {
   "cell_type": "markdown",
   "metadata": {
    "colab_type": "text",
    "id": "dGZ0IOLolKTH"
   },
   "source": [
    "# Start training"
   ]
  },
  {
   "cell_type": "code",
   "execution_count": 0,
   "metadata": {
    "colab": {},
    "colab_type": "code",
    "id": "UbzQtOv4lKTI"
   },
   "outputs": [],
   "source": [
    "# train_history = model.fit_generator(train_generator, \n",
    "#                                     epochs=10, verbose=1, #verbose:詳細信息模式，0或者1\n",
    "#                                     #callbacks=callbacks_list,\n",
    "#                                     validation_data=valid_generator)"
   ]
  },
  {
   "cell_type": "markdown",
   "metadata": {
    "colab_type": "text",
    "id": "jKdI6UEaDkEX"
   },
   "source": [
    "建議不論 generator 還是資料集都使用 fit()"
   ]
  },
  {
   "cell_type": "code",
   "execution_count": 0,
   "metadata": {
    "colab": {
     "base_uri": "https://localhost:8080/",
     "height": 717
    },
    "colab_type": "code",
    "executionInfo": {
     "elapsed": 2423003,
     "status": "ok",
     "timestamp": 1588432864379,
     "user": {
      "displayName": "TaiChen Tsai",
      "photoUrl": "https://lh3.googleusercontent.com/a-/AOh14GijiFB-FCVKj3sPtQs-xEWh9oPVGqglbAaNEO2CQw=s64",
      "userId": "11872014736267145971"
     },
     "user_tz": -480
    },
    "id": "gbmoNFocCflT",
    "outputId": "e910847e-f0b1-46e1-8370-60bf7f34c655"
   },
   "outputs": [
    {
     "name": "stdout",
     "output_type": "stream",
     "text": [
      "Epoch 1/10\n",
      "283/283 [==============================] - ETA: 0s - loss: 0.0221 - accuracy: 0.9946\n",
      "Epoch 00001: val_accuracy did not improve from 0.97905\n",
      "283/283 [==============================] - 240s 846ms/step - loss: 0.0221 - accuracy: 0.9946 - val_loss: 0.0783 - val_accuracy: 0.9760\n",
      "Epoch 2/10\n",
      "283/283 [==============================] - ETA: 0s - loss: 0.0032 - accuracy: 0.9984\n",
      "Epoch 00002: val_accuracy did not improve from 0.97905\n",
      "283/283 [==============================] - 240s 847ms/step - loss: 0.0032 - accuracy: 0.9984 - val_loss: 0.1135 - val_accuracy: 0.9736\n",
      "Epoch 3/10\n",
      "283/283 [==============================] - ETA: 0s - loss: 0.0129 - accuracy: 0.9951\n",
      "Epoch 00003: val_accuracy did not improve from 0.97905\n",
      "283/283 [==============================] - 240s 847ms/step - loss: 0.0129 - accuracy: 0.9951 - val_loss: 0.1739 - val_accuracy: 0.9643\n",
      "Epoch 4/10\n",
      "283/283 [==============================] - ETA: 0s - loss: 0.0104 - accuracy: 0.9966\n",
      "Epoch 00004: val_accuracy did not improve from 0.97905\n",
      "283/283 [==============================] - 240s 847ms/step - loss: 0.0104 - accuracy: 0.9966 - val_loss: 0.0825 - val_accuracy: 0.9775\n",
      "Epoch 5/10\n",
      "283/283 [==============================] - ETA: 0s - loss: 3.4458e-04 - accuracy: 1.0000\n",
      "Epoch 00005: val_accuracy improved from 0.97905 to 0.98061, saving model to /content/drive/My Drive/YM_HW_VGG16_model/weights.h5\n",
      "283/283 [==============================] - 246s 871ms/step - loss: 3.4458e-04 - accuracy: 1.0000 - val_loss: 0.0759 - val_accuracy: 0.9806\n",
      "Epoch 6/10\n",
      "283/283 [==============================] - ETA: 0s - loss: 2.5048e-05 - accuracy: 1.0000\n",
      "Epoch 00006: val_accuracy did not improve from 0.98061\n",
      "283/283 [==============================] - 240s 847ms/step - loss: 2.5048e-05 - accuracy: 1.0000 - val_loss: 0.0772 - val_accuracy: 0.9806\n",
      "Epoch 7/10\n",
      "283/283 [==============================] - ETA: 0s - loss: 5.0108e-06 - accuracy: 1.0000\n",
      "Epoch 00007: val_accuracy improved from 0.98061 to 0.98216, saving model to /content/drive/My Drive/YM_HW_VGG16_model/weights.h5\n",
      "283/283 [==============================] - 246s 869ms/step - loss: 5.0108e-06 - accuracy: 1.0000 - val_loss: 0.0792 - val_accuracy: 0.9822\n",
      "Epoch 8/10\n",
      "283/283 [==============================] - ETA: 0s - loss: 3.3979e-06 - accuracy: 1.0000\n",
      "Epoch 00008: val_accuracy did not improve from 0.98216\n",
      "283/283 [==============================] - 240s 846ms/step - loss: 3.3979e-06 - accuracy: 1.0000 - val_loss: 0.0812 - val_accuracy: 0.9822\n",
      "Epoch 9/10\n",
      "283/283 [==============================] - ETA: 0s - loss: 2.4226e-06 - accuracy: 1.0000\n",
      "Epoch 00009: val_accuracy did not improve from 0.98216\n",
      "283/283 [==============================] - 240s 847ms/step - loss: 2.4226e-06 - accuracy: 1.0000 - val_loss: 0.0837 - val_accuracy: 0.9822\n",
      "Epoch 10/10\n",
      "283/283 [==============================] - ETA: 0s - loss: 1.7485e-06 - accuracy: 1.0000\n",
      "Epoch 00010: val_accuracy did not improve from 0.98216\n",
      "283/283 [==============================] - 242s 855ms/step - loss: 1.7485e-06 - accuracy: 1.0000 - val_loss: 0.0862 - val_accuracy: 0.9822\n"
     ]
    }
   ],
   "source": [
    "train_history = model.fit(train_data,train_label,\n",
    "                          epochs=10,\n",
    "                          verbose=1, #verbose:詳細信息模式，0或者1\n",
    "                          callbacks=callbacks_list,\n",
    "                          validation_data=(vali_data,vali_label),\n",
    "                          batch_size=32,\n",
    "                          )"
   ]
  },
  {
   "cell_type": "markdown",
   "metadata": {
    "colab_type": "text",
    "id": "Ok-PGFu1lKTK"
   },
   "source": [
    "# Save model"
   ]
  },
  {
   "cell_type": "code",
   "execution_count": 0,
   "metadata": {
    "colab": {},
    "colab_type": "code",
    "id": "usv9xxnPlKTL"
   },
   "outputs": [],
   "source": [
    "#model.save(\"/content/drive/My Drive/Colab Notebooks/VGG16_224_Model_MURA.h5\")"
   ]
  },
  {
   "cell_type": "markdown",
   "metadata": {
    "colab_type": "text",
    "id": "zz5Fq8z1lKTO"
   },
   "source": [
    "# Draw the training processing plot"
   ]
  },
  {
   "cell_type": "code",
   "execution_count": 0,
   "metadata": {
    "colab": {
     "base_uri": "https://localhost:8080/",
     "height": 573
    },
    "colab_type": "code",
    "executionInfo": {
     "elapsed": 1313,
     "status": "ok",
     "timestamp": 1588433056826,
     "user": {
      "displayName": "TaiChen Tsai",
      "photoUrl": "https://lh3.googleusercontent.com/a-/AOh14GijiFB-FCVKj3sPtQs-xEWh9oPVGqglbAaNEO2CQw=s64",
      "userId": "11872014736267145971"
     },
     "user_tz": -480
    },
    "id": "_wthJmYrlKTP",
    "outputId": "e0ae3c60-c916-4df2-f447-f9a1ddf00a69"
   },
   "outputs": [
    {
     "data": {
      "image/png": "[encoded data removed]",
      "text/plain": [
       "<Figure size 432x288 with 1 Axes>"
      ]
     },
     "metadata": {
      "needs_background": "light",
      "tags": []
     },
     "output_type": "display_data"
    },
    {
     "data": {
      "image/png": "[encoded data removed]",
      "text/plain": [
       "<Figure size 432x288 with 1 Axes>"
      ]
     },
     "metadata": {
      "needs_background": "light",
      "tags": []
     },
     "output_type": "display_data"
    }
   ],
   "source": [
    "import matplotlib.pyplot as plt\n",
    "\n",
    "plt.figure(0)\n",
    "plt.plot(train_history.history['accuracy'])\n",
    "plt.plot(train_history.history['val_accuracy'])\n",
    "plt.title('Train History')\n",
    "plt.ylabel('accuracy')\n",
    "plt.xlabel('Epoch')\n",
    "plt.legend(['train', 'validation'], loc='lower right')\n",
    "#plt.savefig('Train_History_accuracy.png')\n",
    "\n",
    "plt.figure(1)\n",
    "plt.plot(train_history.history['loss'])\n",
    "plt.plot(train_history.history['val_loss'])\n",
    "plt.title('Train History')\n",
    "plt.ylabel('loss')\n",
    "plt.xlabel('Epoch')\n",
    "plt.legend(['train', 'validation'], loc='upper right')\n",
    "plt.savefig('Train_History_loss.png')\n",
    "\n",
    "plt.show()"
   ]
  },
  {
   "cell_type": "markdown",
   "metadata": {
    "colab_type": "text",
    "id": "YkIx27ZyRHyI"
   },
   "source": [
    "建議都改用 evaluate()"
   ]
  },
  {
   "cell_type": "code",
   "execution_count": 0,
   "metadata": {
    "colab": {},
    "colab_type": "code",
    "id": "uGGobbmElKTS"
   },
   "outputs": [],
   "source": [
    "# scores = model.evaluate_generator(generator=train_generator)\n",
    "# scores[1]"
   ]
  },
  {
   "cell_type": "code",
   "execution_count": 0,
   "metadata": {
    "colab": {
     "base_uri": "https://localhost:8080/",
     "height": 51
    },
    "colab_type": "code",
    "executionInfo": {
     "elapsed": 78729,
     "status": "ok",
     "timestamp": 1588433176257,
     "user": {
      "displayName": "TaiChen Tsai",
      "photoUrl": "https://lh3.googleusercontent.com/a-/AOh14GijiFB-FCVKj3sPtQs-xEWh9oPVGqglbAaNEO2CQw=s64",
      "userId": "11872014736267145971"
     },
     "user_tz": -480
    },
    "id": "XNTwuqEXlKTV",
    "outputId": "0aae1bc8-1dcb-4905-dcc7-f192fee364fc"
   },
   "outputs": [
    {
     "name": "stdout",
     "output_type": "stream",
     "text": [
      "283/283 [==============================] - 76s 269ms/step - loss: 1.5337e-06 - accuracy: 1.0000\n",
      "train_acc: 1.0\n"
     ]
    }
   ],
   "source": [
    "scores = model.evaluate(train_data,train_label)\n",
    "print(\"train_acc:\",scores[1])"
   ]
  },
  {
   "cell_type": "code",
   "execution_count": 0,
   "metadata": {
    "colab": {
     "base_uri": "https://localhost:8080/",
     "height": 51
    },
    "colab_type": "code",
    "executionInfo": {
     "elapsed": 11987,
     "status": "ok",
     "timestamp": 1588433330797,
     "user": {
      "displayName": "TaiChen Tsai",
      "photoUrl": "https://lh3.googleusercontent.com/a-/AOh14GijiFB-FCVKj3sPtQs-xEWh9oPVGqglbAaNEO2CQw=s64",
      "userId": "11872014736267145971"
     },
     "user_tz": -480
    },
    "id": "s5i6-Q8AThHe",
    "outputId": "738fd050-8da3-4372-8fb2-47260f653436"
   },
   "outputs": [
    {
     "name": "stdout",
     "output_type": "stream",
     "text": [
      "41/41 [==============================] - 11s 258ms/step - loss: 0.0862 - accuracy: 0.9822\n",
      "valid_acc: 0.9821566939353943\n"
     ]
    }
   ],
   "source": [
    "vali_scores = model.evaluate(vali_data,vali_label)\n",
    "print(\"valid_acc:\",vali_scores[1])"
   ]
  },
  {
   "cell_type": "markdown",
   "metadata": {
    "colab_type": "text",
    "id": "yr-etAjHlKTX"
   },
   "source": [
    "# Testing"
   ]
  },
  {
   "cell_type": "code",
   "execution_count": 0,
   "metadata": {
    "colab": {
     "base_uri": "https://localhost:8080/",
     "height": 52
    },
    "colab_type": "code",
    "executionInfo": {
     "elapsed": 9898,
     "status": "ok",
     "timestamp": 1589187497972,
     "user": {
      "displayName": "廖翊伶",
      "photoUrl": "",
      "userId": "08230957778160666981"
     },
     "user_tz": -480
    },
    "id": "34AQu4qFlKTY",
    "outputId": "37c769de-0fcc-4839-a1fe-78065745d6a2"
   },
   "outputs": [
    {
     "name": "stdout",
     "output_type": "stream",
     "text": [
      "81/81 [==============================] - 7s 81ms/step - loss: 1.0987 - accuracy: 0.2248\n",
      "test_acc: 0.22480620443820953\n"
     ]
    }
   ],
   "source": [
    "test_scores = model.evaluate(test_data,test_label)\n",
    "print(\"test_acc:\",test_scores[1])"
   ]
  },
  {
   "cell_type": "code",
   "execution_count": 0,
   "metadata": {
    "colab": {},
    "colab_type": "code",
    "id": "ByY7bGQxlKTa"
   },
   "outputs": [],
   "source": [
    "pred=model.predict(test_data)"
   ]
  },
  {
   "cell_type": "code",
   "execution_count": 0,
   "metadata": {
    "colab": {},
    "colab_type": "code",
    "id": "u4akmneblKTd"
   },
   "outputs": [],
   "source": [
    "predicted_class_indices=np.argmax(pred,axis=1)"
   ]
  },
  {
   "cell_type": "markdown",
   "metadata": {
    "colab_type": "text",
    "id": "lu4zgLLllKTf"
   },
   "source": [
    "# Confusion matrix"
   ]
  },
  {
   "cell_type": "code",
   "execution_count": 0,
   "metadata": {
    "colab": {
     "base_uri": "https://localhost:8080/",
     "height": 68
    },
    "colab_type": "code",
    "executionInfo": {
     "elapsed": 1636,
     "status": "ok",
     "timestamp": 1588433437117,
     "user": {
      "displayName": "TaiChen Tsai",
      "photoUrl": "https://lh3.googleusercontent.com/a-/AOh14GijiFB-FCVKj3sPtQs-xEWh9oPVGqglbAaNEO2CQw=s64",
      "userId": "11872014736267145971"
     },
     "user_tz": -480
    },
    "id": "eMt0bP0mlKTg",
    "outputId": "f02f2880-9301-4c9a-8ba9-2d288aa9cc02"
   },
   "outputs": [
    {
     "data": {
      "text/plain": [
       "array([[1124,   23,    6],\n",
       "       [  15,  563,    7],\n",
       "       [   2,   15,  825]])"
      ]
     },
     "execution_count": 34,
     "metadata": {
      "tags": []
     },
     "output_type": "execute_result"
    }
   ],
   "source": [
    "from sklearn.metrics import confusion_matrix\n",
    "CNN_confusion_matrix=confusion_matrix(test_label, predicted_class_indices)\n",
    "CNN_confusion_matrix"
   ]
  },
  {
   "cell_type": "code",
   "execution_count": 0,
   "metadata": {
    "colab": {
     "base_uri": "https://localhost:8080/",
     "height": 34
    },
    "colab_type": "code",
    "executionInfo": {
     "elapsed": 1108,
     "status": "ok",
     "timestamp": 1588433441604,
     "user": {
      "displayName": "TaiChen Tsai",
      "photoUrl": "https://lh3.googleusercontent.com/a-/AOh14GijiFB-FCVKj3sPtQs-xEWh9oPVGqglbAaNEO2CQw=s64",
      "userId": "11872014736267145971"
     },
     "user_tz": -480
    },
    "id": "m7tMkbfVlKTi",
    "outputId": "e94d8193-6aa9-4c46-869b-978e2e34fe4d"
   },
   "outputs": [
    {
     "data": {
      "text/plain": [
       "0.9736434108527132"
      ]
     },
     "execution_count": 35,
     "metadata": {
      "tags": []
     },
     "output_type": "execute_result"
    }
   ],
   "source": [
    "from sklearn.metrics import accuracy_score\n",
    "accuracy_score(test_label, predicted_class_indices, normalize=True, sample_weight=None)"
   ]
  },
  {
   "cell_type": "code",
   "execution_count": 0,
   "metadata": {
    "colab": {},
    "colab_type": "code",
    "id": "kxpwDg3nlKTk"
   },
   "outputs": [],
   "source": []
  },
  {
   "cell_type": "markdown",
   "metadata": {
    "colab_type": "text",
    "id": "-4EbSwrDrs_4"
   },
   "source": [
    "# Visualization"
   ]
  },
  {
   "cell_type": "code",
   "execution_count": 0,
   "metadata": {
    "colab": {},
    "colab_type": "code",
    "id": "mWo7A5M82QKZ"
   },
   "outputs": [],
   "source": []
  },
  {
   "cell_type": "code",
   "execution_count": 0,
   "metadata": {
    "colab": {
     "base_uri": "https://localhost:8080/",
     "height": 35
    },
    "colab_type": "code",
    "executionInfo": {
     "elapsed": 1423,
     "status": "ok",
     "timestamp": 1589187522768,
     "user": {
      "displayName": "廖翊伶",
      "photoUrl": "",
      "userId": "08230957778160666981"
     },
     "user_tz": -480
    },
    "id": "DyfHMNErrvRu",
    "outputId": "8210c659-f3f5-4cf3-d380-1308a8cb9a4f"
   },
   "outputs": [
    {
     "data": {
      "text/plain": [
       "<tf.Tensor 'dense/Identity:0' shape=(None, 4096) dtype=float32>"
      ]
     },
     "execution_count": 18,
     "metadata": {
      "tags": []
     },
     "output_type": "execute_result"
    }
   ],
   "source": [
    "model.layers[-2].output"
   ]
  },
  {
   "cell_type": "code",
   "execution_count": 0,
   "metadata": {
    "colab": {},
    "colab_type": "code",
    "id": "vFHKWRREtfyl"
   },
   "outputs": [],
   "source": [
    "a = Model(inputs = model.input, outputs=model.layers[-2].output)"
   ]
  },
  {
   "cell_type": "code",
   "execution_count": 0,
   "metadata": {
    "colab": {
     "base_uri": "https://localhost:8080/",
     "height": 884
    },
    "colab_type": "code",
    "executionInfo": {
     "elapsed": 1111,
     "status": "ok",
     "timestamp": 1589187526212,
     "user": {
      "displayName": "廖翊伶",
      "photoUrl": "",
      "userId": "08230957778160666981"
     },
     "user_tz": -480
    },
    "id": "gGdQC-BNt4nl",
    "outputId": "9476dd61-23a9-461a-beeb-76675a27bf28"
   },
   "outputs": [
    {
     "name": "stdout",
     "output_type": "stream",
     "text": [
      "Model: \"model_1\"\n",
      "_________________________________________________________________\n",
      "Layer (type)                 Output Shape              Param #   \n",
      "=================================================================\n",
      "input_1 (InputLayer)         [(None, 224, 224, 1)]     0         \n",
      "_________________________________________________________________\n",
      "conv2d (Conv2D)              (None, 224, 224, 64)      640       \n",
      "_________________________________________________________________\n",
      "conv2d_1 (Conv2D)            (None, 224, 224, 64)      36928     \n",
      "_________________________________________________________________\n",
      "max_pooling2d (MaxPooling2D) (None, 112, 112, 64)      0         \n",
      "_________________________________________________________________\n",
      "conv2d_2 (Conv2D)            (None, 112, 112, 128)     73856     \n",
      "_________________________________________________________________\n",
      "conv2d_3 (Conv2D)            (None, 112, 112, 128)     147584    \n",
      "_________________________________________________________________\n",
      "max_pooling2d_1 (MaxPooling2 (None, 56, 56, 128)       0         \n",
      "_________________________________________________________________\n",
      "conv2d_4 (Conv2D)            (None, 56, 56, 256)       295168    \n",
      "_________________________________________________________________\n",
      "conv2d_5 (Conv2D)            (None, 56, 56, 256)       590080    \n",
      "_________________________________________________________________\n",
      "conv2d_6 (Conv2D)            (None, 56, 56, 256)       590080    \n",
      "_________________________________________________________________\n",
      "max_pooling2d_2 (MaxPooling2 (None, 28, 28, 256)       0         \n",
      "_________________________________________________________________\n",
      "conv2d_7 (Conv2D)            (None, 28, 28, 512)       1180160   \n",
      "_________________________________________________________________\n",
      "conv2d_8 (Conv2D)            (None, 28, 28, 512)       2359808   \n",
      "_________________________________________________________________\n",
      "conv2d_9 (Conv2D)            (None, 28, 28, 512)       2359808   \n",
      "_________________________________________________________________\n",
      "max_pooling2d_3 (MaxPooling2 (None, 14, 14, 512)       0         \n",
      "_________________________________________________________________\n",
      "conv2d_10 (Conv2D)           (None, 14, 14, 512)       2359808   \n",
      "_________________________________________________________________\n",
      "conv2d_11 (Conv2D)           (None, 14, 14, 512)       2359808   \n",
      "_________________________________________________________________\n",
      "conv2d_12 (Conv2D)           (None, 14, 14, 512)       2359808   \n",
      "_________________________________________________________________\n",
      "max_pooling2d_4 (MaxPooling2 (None, 7, 7, 512)         0         \n",
      "_________________________________________________________________\n",
      "flatten (Flatten)            (None, 25088)             0         \n",
      "_________________________________________________________________\n",
      "dense (Dense)                (None, 4096)              102764544 \n",
      "=================================================================\n",
      "Total params: 117,478,080\n",
      "Trainable params: 117,478,080\n",
      "Non-trainable params: 0\n",
      "_________________________________________________________________\n"
     ]
    }
   ],
   "source": [
    "a.summary()"
   ]
  },
  {
   "cell_type": "code",
   "execution_count": 0,
   "metadata": {
    "colab": {},
    "colab_type": "code",
    "id": "2zhX9dc8u5qu"
   },
   "outputs": [],
   "source": [
    "pred = a.predict(test_data)"
   ]
  },
  {
   "cell_type": "code",
   "execution_count": 0,
   "metadata": {
    "colab": {
     "base_uri": "https://localhost:8080/",
     "height": 35
    },
    "colab_type": "code",
    "executionInfo": {
     "elapsed": 1474,
     "status": "ok",
     "timestamp": 1589187540550,
     "user": {
      "displayName": "廖翊伶",
      "photoUrl": "",
      "userId": "08230957778160666981"
     },
     "user_tz": -480
    },
    "id": "mpy4bbDyvCr7",
    "outputId": "9d3adf56-fd5e-4a14-a2f0-f1ce2a28ac8b"
   },
   "outputs": [
    {
     "data": {
      "text/plain": [
       "(2580, 4096)"
      ]
     },
     "execution_count": 22,
     "metadata": {
      "tags": []
     },
     "output_type": "execute_result"
    }
   ],
   "source": [
    "pred.shape"
   ]
  },
  {
   "cell_type": "code",
   "execution_count": 0,
   "metadata": {
    "colab": {
     "base_uri": "https://localhost:8080/",
     "height": 52
    },
    "colab_type": "code",
    "executionInfo": {
     "elapsed": 542,
     "status": "ok",
     "timestamp": 1589187541637,
     "user": {
      "displayName": "廖翊伶",
      "photoUrl": "",
      "userId": "08230957778160666981"
     },
     "user_tz": -480
    },
    "id": "vopEuZK_vGj5",
    "outputId": "87bd1540-afdb-422e-c839-9ab77c95cc4b"
   },
   "outputs": [
    {
     "data": {
      "text/plain": [
       "array([0.        , 0.        , 0.00043901, ..., 0.00017122, 0.00029233,\n",
       "       0.00067869], dtype=float32)"
      ]
     },
     "execution_count": 23,
     "metadata": {
      "tags": []
     },
     "output_type": "execute_result"
    }
   ],
   "source": [
    "pred[0]"
   ]
  },
  {
   "cell_type": "code",
   "execution_count": 0,
   "metadata": {
    "colab": {
     "base_uri": "https://localhost:8080/",
     "height": 269
    },
    "colab_type": "code",
    "executionInfo": {
     "elapsed": 1923,
     "status": "ok",
     "timestamp": 1589187544237,
     "user": {
      "displayName": "廖翊伶",
      "photoUrl": "",
      "userId": "08230957778160666981"
     },
     "user_tz": -480
    },
    "id": "CryOZ4FJvM0e",
    "outputId": "17eb4788-1f20-471a-b8b4-8958cf09757b"
   },
   "outputs": [
    {
     "data": {
      "image/png": "[encoded data removed]",
      "text/plain": [
       "<Figure size 432x288 with 1 Axes>"
      ]
     },
     "metadata": {
      "needs_background": "light",
      "tags": []
     },
     "output_type": "display_data"
    }
   ],
   "source": [
    "vis_img(test_data[5])"
   ]
  },
  {
   "cell_type": "code",
   "execution_count": 0,
   "metadata": {
    "colab": {},
    "colab_type": "code",
    "id": "F7YsAQGuxCnK"
   },
   "outputs": [],
   "source": [
    "from sklearn.decomposition import PCA\n",
    "pca = PCA(n_components = 2)\n",
    "pca.fit(pred)\n",
    "pred_new = pca.transform(pred)"
   ]
  },
  {
   "cell_type": "code",
   "execution_count": 0,
   "metadata": {
    "colab": {
     "base_uri": "https://localhost:8080/",
     "height": 35
    },
    "colab_type": "code",
    "executionInfo": {
     "elapsed": 689,
     "status": "ok",
     "timestamp": 1589187549406,
     "user": {
      "displayName": "廖翊伶",
      "photoUrl": "",
      "userId": "08230957778160666981"
     },
     "user_tz": -480
    },
    "id": "DZ_50MUoxauf",
    "outputId": "ab68924b-8177-4c6f-eb0c-9f27f8623664"
   },
   "outputs": [
    {
     "data": {
      "text/plain": [
       "array([-0.0008676, -0.003531 ], dtype=float32)"
      ]
     },
     "execution_count": 26,
     "metadata": {
      "tags": []
     },
     "output_type": "execute_result"
    }
   ],
   "source": [
    "pred_new[0]"
   ]
  },
  {
   "cell_type": "code",
   "execution_count": 0,
   "metadata": {
    "colab": {
     "base_uri": "https://localhost:8080/",
     "height": 265
    },
    "colab_type": "code",
    "executionInfo": {
     "elapsed": 1496,
     "status": "ok",
     "timestamp": 1589187552744,
     "user": {
      "displayName": "廖翊伶",
      "photoUrl": "",
      "userId": "08230957778160666981"
     },
     "user_tz": -480
    },
    "id": "_cnnvMEayge6",
    "outputId": "3e58142b-8f76-4292-984a-26002448a725"
   },
   "outputs": [
    {
     "data": {
      "image/png": "[encoded data removed]",
      "text/plain": [
       "<Figure size 432x288 with 1 Axes>"
      ]
     },
     "metadata": {
      "needs_background": "light",
      "tags": []
     },
     "output_type": "display_data"
    }
   ],
   "source": [
    "import matplotlib.pyplot as plt\n",
    "\n",
    "plt.scatter(pred_new[:,0],pred_new[:,1])\n",
    "plt.show()"
   ]
  },
  {
   "cell_type": "code",
   "execution_count": 0,
   "metadata": {
    "colab": {
     "base_uri": "https://localhost:8080/",
     "height": 35
    },
    "colab_type": "code",
    "executionInfo": {
     "elapsed": 1440,
     "status": "ok",
     "timestamp": 1589187557164,
     "user": {
      "displayName": "廖翊伶",
      "photoUrl": "",
      "userId": "08230957778160666981"
     },
     "user_tz": -480
    },
    "id": "q1QzBXRg0UBq",
    "outputId": "5d5556df-5d40-491e-88ad-98dcc7f90f28"
   },
   "outputs": [
    {
     "data": {
      "text/plain": [
       "2.0"
      ]
     },
     "execution_count": 28,
     "metadata": {
      "tags": []
     },
     "output_type": "execute_result"
    }
   ],
   "source": [
    "test_label[5]"
   ]
  },
  {
   "cell_type": "code",
   "execution_count": 0,
   "metadata": {
    "colab": {
     "base_uri": "https://localhost:8080/",
     "height": 35
    },
    "colab_type": "code",
    "executionInfo": {
     "elapsed": 553,
     "status": "ok",
     "timestamp": 1589187558264,
     "user": {
      "displayName": "廖翊伶",
      "photoUrl": "",
      "userId": "08230957778160666981"
     },
     "user_tz": -480
    },
    "id": "Y9njHlVg0Yba",
    "outputId": "e0656734-ba46-46a9-8e83-ed7ac56e23da"
   },
   "outputs": [
    {
     "data": {
      "text/plain": [
       "['WRIST_negative', 'ELBOW_negative', 'SHOULDER_negative']"
      ]
     },
     "execution_count": 29,
     "metadata": {
      "tags": []
     },
     "output_type": "execute_result"
    }
   ],
   "source": [
    "label_name"
   ]
  },
  {
   "cell_type": "code",
   "execution_count": 0,
   "metadata": {
    "colab": {},
    "colab_type": "code",
    "id": "Xcip5sUW008m"
   },
   "outputs": [],
   "source": [
    "data1=pred_new[np.where(test_label==0)]\n",
    "data2=pred_new[np.where(test_label==1)]\n",
    "data3=pred_new[np.where(test_label==2)]"
   ]
  },
  {
   "cell_type": "code",
   "execution_count": 0,
   "metadata": {
    "colab": {
     "base_uri": "https://localhost:8080/",
     "height": 35
    },
    "colab_type": "code",
    "executionInfo": {
     "elapsed": 1436,
     "status": "ok",
     "timestamp": 1589187563346,
     "user": {
      "displayName": "廖翊伶",
      "photoUrl": "",
      "userId": "08230957778160666981"
     },
     "user_tz": -480
    },
    "id": "dWg1jGn21L-f",
    "outputId": "a9673044-55db-414c-f34d-4e6a1c143bd6"
   },
   "outputs": [
    {
     "data": {
      "text/plain": [
       "array([2., 2., 0., 2., 2., 2., 1., 1., 0., 2.])"
      ]
     },
     "execution_count": 31,
     "metadata": {
      "tags": []
     },
     "output_type": "execute_result"
    }
   ],
   "source": [
    "test_label[:10]"
   ]
  },
  {
   "cell_type": "code",
   "execution_count": 0,
   "metadata": {
    "colab": {
     "base_uri": "https://localhost:8080/",
     "height": 265
    },
    "colab_type": "code",
    "executionInfo": {
     "elapsed": 1213,
     "status": "ok",
     "timestamp": 1589187565112,
     "user": {
      "displayName": "廖翊伶",
      "photoUrl": "",
      "userId": "08230957778160666981"
     },
     "user_tz": -480
    },
    "id": "vcm-vFfn1Ter",
    "outputId": "3625d6e7-84b7-46a7-a958-ad9afd6a9b7d"
   },
   "outputs": [
    {
     "data": {
      "image/png": "[encoded data removed]",
      "text/plain": [
       "<Figure size 432x288 with 1 Axes>"
      ]
     },
     "metadata": {
      "needs_background": "light",
      "tags": []
     },
     "output_type": "display_data"
    }
   ],
   "source": [
    "import matplotlib.pyplot as plt\n",
    "\n",
    "plt.scatter(data1[:,0],data1[:,1])\n",
    "plt.scatter(data2[:,0],data2[:,1])\n",
    "plt.scatter(data3[:,0],data3[:,1])\n",
    "plt.show()"
   ]
  },
  {
   "cell_type": "code",
   "execution_count": 0,
   "metadata": {
    "colab": {},
    "colab_type": "code",
    "id": "M81W-EvpAmIm"
   },
   "outputs": [],
   "source": []
  }
 ],
 "metadata": {
  "accelerator": "GPU",
  "colab": {
   "collapsed_sections": [],
   "machine_shape": "hm",
   "name": "CNN_VGG16_MURA_VISUALIZATION.ipynb",
   "provenance": [
    {
     "file_id": "15Tlqx6SkZWGgGr8Q7mjth6gxxDNNMXAc",
     "timestamp": 1585194306571
    },
    {
     "file_id": "1pA-WUH1EUWy1SFOS-caFckFpHWvBiiFZ",
     "timestamp": 1584923699066
    }
   ],
   "toc_visible": true
  },
  "kernelspec": {
   "display_name": "Python 3",
   "language": "python",
   "name": "python3"
  },
  "language_info": {
   "codemirror_mode": {
    "name": "ipython",
    "version": 3
   },
   "file_extension": ".py",
   "mimetype": "text/x-python",
   "name": "python",
   "nbconvert_exporter": "python",
   "pygments_lexer": "ipython3",
   "version": "3.7.3"
  }
 },
 "nbformat": 4,
 "nbformat_minor": 1
}
